{
 "cells": [
  {
   "cell_type": "code",
   "execution_count": 82,
   "metadata": {},
   "outputs": [],
   "source": [
    "import re\n",
    "from sklearn.feature_extraction.text import TfidfVectorizer"
   ]
  },
  {
   "cell_type": "code",
   "execution_count": 21,
   "metadata": {
    "collapsed": true
   },
   "outputs": [],
   "source": [
    "def preprocess(string):\n",
    "    _EXTRA_SPACE_REGEX = re.compile(r'\\s+', re.IGNORECASE)\n",
    "    _SPECIAL_CHAR_REGEX = re.compile(\n",
    "        r\"(?P<p>(\\.+)|(\\?+)|(!+)|(:+)|(;+)|(-+)|\"\n",
    "        r\"(\\(+)|(\\)+)|(\\}+)|(\\{+)|('+)|(-+)|(\\[+)|(\\]+)|\"\n",
    "        r\"(?<!\\d)(,+)(?!=\\d)|(\\$+))\")\n",
    "    string = _EXTRA_SPACE_REGEX.sub(\" \",string)\n",
    "    string = _SPECIAL_CHAR_REGEX.sub(\" \",string)\n",
    "    string = _EXTRA_SPACE_REGEX.sub(\" \",string)\n",
    "    return string.lower()"
   ]
  },
  {
   "cell_type": "code",
   "execution_count": 22,
   "metadata": {},
   "outputs": [
    {
     "name": "stdout",
     "output_type": "stream",
     "text": [
      "hi how ar e y ou @@ jaksfd \\ / \n"
     ]
    }
   ],
   "source": [
    "text = \"hi :how   ar-e y$ou!! @@ ? . : jaksfd ; \\ { } ( ) [ ] / ,\"\n",
    "print(preprocess(text))"
   ]
  },
  {
   "cell_type": "code",
   "execution_count": 23,
   "metadata": {
    "collapsed": true
   },
   "outputs": [],
   "source": [
    "text = [\"In information retrieval, tf–idf or TFIDF, short for term frequency–inverse document frequency\",\n",
    "       \"It is often used as a weighting factor in searches of information retrieval, mining, modeling.\",\n",
    "       \"Variations of the tf–idf weighting scheme are often used by search engines as a central tool\",\n",
    "       \"in scoring and be successfully used for stop-words filtering ranking a document's relevance\"]"
   ]
  },
  {
   "cell_type": "code",
   "execution_count": 24,
   "metadata": {},
   "outputs": [],
   "source": [
    "for index,string in enumerate(text):\n",
    "    text[index] = preprocess(string)"
   ]
  },
  {
   "cell_type": "code",
   "execution_count": 25,
   "metadata": {},
   "outputs": [
    {
     "name": "stdout",
     "output_type": "stream",
     "text": [
      "['in information retrieval tf–idf or tfidf short for term frequency–inverse document frequency', 'it is often used as a weighting factor in searches of information retrieval mining modeling ', 'variations of the tf–idf weighting scheme are often used by search engines as a central tool', 'in scoring and be successfully used for stop words filtering ranking a document s relevance']\n"
     ]
    }
   ],
   "source": [
    "print(text)"
   ]
  },
  {
   "cell_type": "code",
   "execution_count": 39,
   "metadata": {},
   "outputs": [],
   "source": [
    "vectorizer = TfidfVectorizer()\n",
    "tfidf_matrix = vectorizer.fit_transform(text)"
   ]
  },
  {
   "cell_type": "code",
   "execution_count": 70,
   "metadata": {},
   "outputs": [
    {
     "name": "stdout",
     "output_type": "stream",
     "text": [
      "['and', 'are', 'as', 'be', 'by', 'central', 'document', 'engines', 'factor', 'filtering', 'for', 'frequency', 'idf', 'in', 'information', 'inverse', 'is', 'it', 'mining', 'modeling', 'of', 'often', 'or', 'ranking', 'relevance', 'retrieval', 'scheme', 'scoring', 'search', 'searches', 'short', 'stop', 'successfully', 'term', 'tf', 'tfidf', 'the', 'tool', 'used', 'variations', 'weighting', 'words']\n"
     ]
    }
   ],
   "source": [
    "features = vectorizer.get_feature_names()\n",
    "print(features)"
   ]
  },
  {
   "cell_type": "code",
   "execution_count": 66,
   "metadata": {},
   "outputs": [
    {
     "data": {
      "text/plain": [
       "(4, 42)"
      ]
     },
     "execution_count": 66,
     "metadata": {},
     "output_type": "execute_result"
    }
   ],
   "source": [
    "tfidf_matrix.shape"
   ]
  },
  {
   "cell_type": "code",
   "execution_count": 40,
   "metadata": {},
   "outputs": [
    {
     "name": "stdout",
     "output_type": "stream",
     "text": [
      "in 0.176103702353\n",
      "information 0.217523107299\n",
      "retrieval 0.217523107299\n",
      "tf 0.217523107299\n",
      "idf 0.217523107299\n",
      "or 0.275900479796\n",
      "tfidf 0.275900479796\n",
      "short 0.275900479796\n",
      "for 0.217523107299\n",
      "term 0.275900479796\n",
      "frequency 0.551800959592\n",
      "inverse 0.275900479796\n",
      "document 0.217523107299\n"
     ]
    }
   ],
   "source": [
    "doc = 0\n",
    "feature_names = vectorizer.get_feature_names()\n",
    "feature_index = tfidf_matrix[doc,:].nonzero()[1]\n",
    "tfidf_scores = zip(feature_index, [tfidf_matrix[doc, x] for x in feature_index])\n",
    "for w, s in [(feature_names[i], s) for (i, s) in tfidf_scores]:\n",
    "  print (w, s)"
   ]
  },
  {
   "cell_type": "code",
   "execution_count": 79,
   "metadata": {},
   "outputs": [],
   "source": [
    "rows = tfidf_matrix.shape[0]\n",
    "cols = tfidf_matrix.shape[1]\n",
    "words = {}\n",
    "for row in range(rows):\n",
    "    for col in range(cols):\n",
    "        if tfidf_matrix[row,col] > 0:\n",
    "            if features[col] not in words:\n",
    "                words[features[col]] = {}\n",
    "            words[features[col]][row] = tfidf_matrix[row,col]\n",
    "                "
   ]
  },
  {
   "cell_type": "code",
   "execution_count": null,
   "metadata": {},
   "outputs": [],
   "source": []
  },
  {
   "cell_type": "code",
   "execution_count": 87,
   "metadata": {},
   "outputs": [],
   "source": [
    "def search(query):\n",
    "    query_list = preprocess(query).split(\" \")\n",
    "    result_file_dict = {}\n",
    "    for q in query_list:\n",
    "        d = words.get(q,0) \n",
    "        if d!=0:\n",
    "            for file_index in d.keys():\n",
    "                result_file_dict[file_index] = result_file_dict.get(file_index,0)\n",
    "                result_file_dict[file_index]+=d[file_index]\n",
    "    return result_file_dict\n"
   ]
  },
  {
   "cell_type": "code",
   "execution_count": 88,
   "metadata": {},
   "outputs": [
    {
     "data": {
      "text/plain": [
       "{1: 0.74731787528171112, 2: 0.39362680965121388, 3: 0.19194536047103244}"
      ]
     },
     "execution_count": 88,
     "metadata": {},
     "output_type": "execute_result"
    }
   ],
   "source": [
    "search(\"is often used\")"
   ]
  },
  {
   "cell_type": "code",
   "execution_count": 89,
   "metadata": {},
   "outputs": [
    {
     "ename": "TypeError",
     "evalue": "list indices must be integers or slices, not str",
     "output_type": "error",
     "traceback": [
      "\u001b[0;31m---------------------------------------------------------------------------\u001b[0m",
      "\u001b[0;31mTypeError\u001b[0m                                 Traceback (most recent call last)",
      "\u001b[0;32m<ipython-input-89-926b436563c7>\u001b[0m in \u001b[0;36m<module>\u001b[0;34m()\u001b[0m\n\u001b[0;32m----> 1\u001b[0;31m \u001b[0mprint\u001b[0m\u001b[0;34m(\u001b[0m\u001b[0mfeatures\u001b[0m\u001b[0;34m[\u001b[0m\u001b[0;34m\"is\"\u001b[0m\u001b[0;34m]\u001b[0m\u001b[0;34m,\u001b[0m\u001b[0mfeatures\u001b[0m\u001b[0;34m[\u001b[0m\u001b[0;34m\"often\"\u001b[0m\u001b[0;34m,\u001b[0m\u001b[0mfeatures\u001b[0m\u001b[0;34m[\u001b[0m\u001b[0;34m\"used\"\u001b[0m\u001b[0;34m]\u001b[0m\u001b[0;34m]\u001b[0m\u001b[0;34m)\u001b[0m\u001b[0;34m\u001b[0m\u001b[0m\n\u001b[0m",
      "\u001b[0;31mTypeError\u001b[0m: list indices must be integers or slices, not str"
     ]
    }
   ],
   "source": [
    "print(features[\"is\"],features[\"often\",features[\"used\"]])"
   ]
  },
  {
   "cell_type": "code",
   "execution_count": null,
   "metadata": {
    "collapsed": true
   },
   "outputs": [],
   "source": []
  }
 ],
 "metadata": {
  "kernelspec": {
   "display_name": "Python 3",
   "language": "python",
   "name": "python3"
  },
  "language_info": {
   "codemirror_mode": {
    "name": "ipython",
    "version": 3
   },
   "file_extension": ".py",
   "mimetype": "text/x-python",
   "name": "python",
   "nbconvert_exporter": "python",
   "pygments_lexer": "ipython3",
   "version": "3.6.0"
  }
 },
 "nbformat": 4,
 "nbformat_minor": 2
}
